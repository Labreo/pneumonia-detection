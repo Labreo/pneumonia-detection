{
 "cells": [
  {
   "cell_type": "code",
   "execution_count": null,
   "id": "937b77fa",
   "metadata": {},
   "outputs": [],
   "source": [
    "\n",
    "from keras.models import Sequential\n",
    "from keras.layers import Conv2D, MaxPooling2D, Dense, Flatten, Dropout\n",
    "from keras.preprocessing.image import ImageDataGenerator\n",
    "import os\n",
    "root_dir=os.getcwd()\n",
    "src_path_train = \"data/chest_xray/train\"\n",
    "src_path_test = \"data/chest_xray/test\""
   ]
  }
 ],
 "metadata": {
  "kernelspec": {
   "display_name": "Python (myenv)",
   "language": "python",
   "name": "myenv"
  },
  "language_info": {
   "name": "python",
   "version": "3.11.13"
  }
 },
 "nbformat": 4,
 "nbformat_minor": 5
}
